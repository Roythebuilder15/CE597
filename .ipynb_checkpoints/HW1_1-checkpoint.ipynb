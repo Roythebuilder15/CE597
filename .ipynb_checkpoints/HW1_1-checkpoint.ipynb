{
 "cells": [
  {
   "cell_type": "markdown",
   "metadata": {},
   "source": [
    "# Homework 1 Problem 1"
   ]
  },
  {
   "cell_type": "code",
   "execution_count": 24,
   "metadata": {},
   "outputs": [
    {
     "name": "stdout",
     "output_type": "stream",
     "text": [
      "2748.230999993\n",
      "99800.0\n",
      "36.314269069905045\n"
     ]
    }
   ],
   "source": [
    "import numpy as np\n",
    "import matplotlib.pyplot as plt\n",
    "\n",
    "ts2 = 'timeseries-2.csv'\n",
    "data = np.loadtxt(ts2, delimiter=',', skiprows =1)\n",
    "\n",
    "time = data[:,0]\n",
    "conc = data[:,1]\n",
    "\n",
    "A = np.trapz(conc, time, dx=1.0, axis=-1)\n",
    "#A = area under the curve of the data set\n",
    "M = 99.8 * 1000\n",
    "#M = the mass that was injected into the stream\n",
    "Q = M/A\n",
    "#Q = the flow of the stream\n",
    "\n",
    "#Q=M/A\n",
    "\n",
    "print(A)\n",
    "print(M)\n",
    "print(Q)"
   ]
  },
  {
   "cell_type": "code",
   "execution_count": null,
   "metadata": {},
   "outputs": [],
   "source": []
  },
  {
   "cell_type": "code",
   "execution_count": null,
   "metadata": {},
   "outputs": [],
   "source": []
  }
 ],
 "metadata": {
  "kernelspec": {
   "display_name": "Python 3",
   "language": "python",
   "name": "python3"
  },
  "language_info": {
   "codemirror_mode": {
    "name": "ipython",
    "version": 3
   },
   "file_extension": ".py",
   "mimetype": "text/x-python",
   "name": "python",
   "nbconvert_exporter": "python",
   "pygments_lexer": "ipython3",
   "version": "3.8.11"
  }
 },
 "nbformat": 4,
 "nbformat_minor": 4
}
