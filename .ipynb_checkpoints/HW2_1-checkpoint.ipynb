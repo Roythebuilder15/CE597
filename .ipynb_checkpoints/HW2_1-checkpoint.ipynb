{
 "cells": [
  {
   "cell_type": "markdown",
   "id": "04483bab-af13-40c5-80ee-db8f5cb0be3e",
   "metadata": {},
   "source": [
    "# HW2 "
   ]
  },
  {
   "cell_type": "code",
   "execution_count": 1,
   "id": "fdf59ea2-ad98-490c-aeb2-2840869f9b8f",
   "metadata": {},
   "outputs": [],
   "source": [
    "import numpy as np\n",
    "import matplotlib.pyplot as plt\n",
    "\n",
    "d = 0.4 # m \n",
    "w = 18.2 # m\n",
    "a = w * d\n",
    "Q = 5.25 # m^3/s flow of river \n",
    "E = 92.4 # m^2/s Measured longitudinal Dispersion Coefficient in m^2/s\n",
    "E_h = E*3600\n",
    "u = Q/a\n",
    "m = 50\n",
    "\n",
    "t1 = 1\n",
    "t2 = 2 \n",
    "t4 = 4\n",
    "t8 = 8 \n",
    "\n",
    "x_0 = 0\n",
    "x_f = 30000\n",
    "dx = 1\n",
    "x = np.arange(x_0,x_f+dx,dx)\n",
    "Nx = (x.size)+1"
   ]
  },
  {
   "cell_type": "code",
   "execution_count": 2,
   "id": "de0734e4-4a99-472d-a330-ffe027000530",
   "metadata": {},
   "outputs": [
    {
     "ename": "ValueError",
     "evalue": "setting an array element with a sequence.",
     "output_type": "error",
     "traceback": [
      "\u001b[1;31m---------------------------------------------------------------------------\u001b[0m",
      "\u001b[1;31mTypeError\u001b[0m                                 Traceback (most recent call last)",
      "\u001b[1;31mTypeError\u001b[0m: only size-1 arrays can be converted to Python scalars",
      "\nThe above exception was the direct cause of the following exception:\n",
      "\u001b[1;31mValueError\u001b[0m                                Traceback (most recent call last)",
      "\u001b[1;32m<ipython-input-2-a817be0dcd05>\u001b[0m in \u001b[0;36m<module>\u001b[1;34m\u001b[0m\n\u001b[0;32m     16\u001b[0m         \u001b[0mc8\u001b[0m\u001b[1;33m=\u001b[0m \u001b[0mm\u001b[0m\u001b[1;33m/\u001b[0m\u001b[1;33m(\u001b[0m\u001b[0ma\u001b[0m\u001b[1;33m*\u001b[0m\u001b[0mnp\u001b[0m\u001b[1;33m.\u001b[0m\u001b[0msqrt\u001b[0m\u001b[1;33m(\u001b[0m\u001b[1;36m4\u001b[0m\u001b[1;33m*\u001b[0m\u001b[0mnp\u001b[0m\u001b[1;33m.\u001b[0m\u001b[0mpi\u001b[0m\u001b[1;33m*\u001b[0m\u001b[0mE_h\u001b[0m\u001b[1;33m*\u001b[0m\u001b[0mt8\u001b[0m\u001b[1;33m)\u001b[0m\u001b[1;33m)\u001b[0m\u001b[1;33m*\u001b[0m\u001b[0mnp\u001b[0m\u001b[1;33m.\u001b[0m\u001b[0mexp\u001b[0m\u001b[1;33m(\u001b[0m\u001b[0me8\u001b[0m\u001b[1;33m)\u001b[0m\u001b[1;33m\u001b[0m\u001b[1;33m\u001b[0m\u001b[0m\n\u001b[0;32m     17\u001b[0m \u001b[1;33m\u001b[0m\u001b[0m\n\u001b[1;32m---> 18\u001b[1;33m         \u001b[0mx\u001b[0m\u001b[1;33m[\u001b[0m\u001b[0mi\u001b[0m\u001b[1;33m]\u001b[0m \u001b[1;33m=\u001b[0m \u001b[0mx\u001b[0m\u001b[1;33m[\u001b[0m\u001b[0mi\u001b[0m\u001b[1;33m-\u001b[0m\u001b[1;36m1\u001b[0m\u001b[1;33m]\u001b[0m \u001b[1;33m+\u001b[0m \u001b[0mc1\u001b[0m\u001b[1;33m*\u001b[0m\u001b[0mdx\u001b[0m\u001b[1;33m\u001b[0m\u001b[1;33m\u001b[0m\u001b[0m\n\u001b[0m\u001b[0;32m     19\u001b[0m \u001b[1;33m\u001b[0m\u001b[0m\n\u001b[0;32m     20\u001b[0m \u001b[1;33m\u001b[0m\u001b[0m\n",
      "\u001b[1;31mValueError\u001b[0m: setting an array element with a sequence."
     ]
    }
   ],
   "source": [
    "for i in np.arange(Nx):\n",
    "    if (i==0):\n",
    "        x[i] = x[-1]\n",
    "        \n",
    "    else:\n",
    "        e1 = -(((x-x_0+u*t1)**2)/(4*E_h*t1))\n",
    "        c1= m/(a*np.sqrt(4*np.pi*E_h*t1))*np.exp(e1)\n",
    "\n",
    "        e2 = -(((x-x_0+u*t2)**2)/(4*E_h*t2))\n",
    "        c2= m/(a*np.sqrt(4*np.pi*E_h*t2))*np.exp(e2)\n",
    "\n",
    "        e4 = -(((x-x_0+u*t4)**2)/(4*E_h*t4))\n",
    "        c4= m/(a*np.sqrt(4*np.pi*E_h*t4))*np.exp(e4)\n",
    "\n",
    "        e8 = -(((x-x_0+u*t8)**2)/(4*E_h*t8))\n",
    "        c8= m/(a*np.sqrt(4*np.pi*E_h*t8))*np.exp(e8)\n",
    "        \n",
    "        x[i] = x[i-1] + c1*dx\n",
    "      \n",
    "\n",
    "print(c1)"
   ]
  },
  {
   "cell_type": "markdown",
   "id": "95de3d72-7d85-44f2-abf9-04387a7f4e09",
   "metadata": {},
   "source": []
  },
  {
   "cell_type": "code",
   "execution_count": null,
   "id": "edeb5b54-72c3-4ca5-8e34-f1f813fa13d0",
   "metadata": {},
   "outputs": [],
   "source": [
    "plt.figure(figsize = (11,11))\n",
    "plt.rcParams.update({'font.size': 16})\n",
    "\n",
    "plt.subplot(4,1,1)\n",
    "plt.plot(x,c1, 'b-', label='')\n",
    "plt.plot(x,c2, 'r-', label='')\n",
    "plt.plot(x,c4, 'y', label='')\n",
    "plt.plot(x,c8, 'g', label='')\n",
    "plt.ylabel('')\n",
    "plt.show()"
   ]
  },
  {
   "cell_type": "markdown",
   "id": "1eb76c92-0da1-44fe-aab2-f6223324ca54",
   "metadata": {},
   "source": []
  },
  {
   "cell_type": "code",
   "execution_count": null,
   "id": "c6633e5c-9aec-4263-9246-c13d857f6439",
   "metadata": {},
   "outputs": [],
   "source": []
  },
  {
   "cell_type": "code",
   "execution_count": null,
   "id": "3c1f2c80-c400-4ec9-bd74-74d59de4d160",
   "metadata": {},
   "outputs": [],
   "source": []
  },
  {
   "cell_type": "code",
   "execution_count": null,
   "id": "a8bfe30c-c7a9-4775-8ee8-ffa68d7bc6ed",
   "metadata": {},
   "outputs": [],
   "source": []
  },
  {
   "cell_type": "code",
   "execution_count": null,
   "id": "411235df-2482-4f90-aa15-9fcf2aa3a400",
   "metadata": {},
   "outputs": [],
   "source": []
  }
 ],
 "metadata": {
  "kernelspec": {
   "display_name": "Python 3",
   "language": "python",
   "name": "python3"
  },
  "language_info": {
   "codemirror_mode": {
    "name": "ipython",
    "version": 3
   },
   "file_extension": ".py",
   "mimetype": "text/x-python",
   "name": "python",
   "nbconvert_exporter": "python",
   "pygments_lexer": "ipython3",
   "version": "3.8.11"
  }
 },
 "nbformat": 4,
 "nbformat_minor": 5
}
