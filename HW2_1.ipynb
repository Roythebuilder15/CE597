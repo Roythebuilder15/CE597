{
 "cells": [
  {
   "cell_type": "markdown",
   "id": "04483bab-af13-40c5-80ee-db8f5cb0be3e",
   "metadata": {
    "tags": []
   },
   "source": [
    "# HW2 "
   ]
  },
  {
   "cell_type": "markdown",
   "id": "bdb52b41-8ea1-4a75-991a-0e090e127f9c",
   "metadata": {},
   "source": [
    "### Problem_1"
   ]
  },
  {
   "cell_type": "code",
   "execution_count": 20,
   "id": "fdf59ea2-ad98-490c-aeb2-2840869f9b8f",
   "metadata": {},
   "outputs": [],
   "source": [
    "import numpy as np\n",
    "import matplotlib.pyplot as plt\n",
    "\n",
    "d = 0.4 # m \n",
    "w = 18.2 # m\n",
    "a = w * d\n",
    "Q = 5.25 # m^3/s flow of river \n",
    "E = 92.4 # m^2/s Measured longitudinal Dispersion Coefficient in m^2/s\n",
    "E_h = E*3600\n",
    "u = Q/a\n",
    "m = 50\n",
    "\n",
    "t1 = 1\n",
    "t2 = 2 \n",
    "t4 = 4\n",
    "t8 = 8 \n",
    "\n",
    "x_0 = 0\n",
    "x_f = 30000\n",
    "dx = 1\n",
    "x = np.arange(x_0,x_f+dx,dx)\n",
    "#x = np.zeros\n",
    "Nx = (x.size)\n",
    "x[0] = x_0"
   ]
  },
  {
   "cell_type": "code",
   "execution_count": 24,
   "id": "de0734e4-4a99-472d-a330-ffe027000530",
   "metadata": {},
   "outputs": [
    {
     "ename": "ValueError",
     "evalue": "setting an array element with a sequence.",
     "output_type": "error",
     "traceback": [
      "\u001b[1;31m---------------------------------------------------------------------------\u001b[0m",
      "\u001b[1;31mTypeError\u001b[0m                                 Traceback (most recent call last)",
      "\u001b[1;31mTypeError\u001b[0m: only size-1 arrays can be converted to Python scalars",
      "\nThe above exception was the direct cause of the following exception:\n",
      "\u001b[1;31mValueError\u001b[0m                                Traceback (most recent call last)",
      "\u001b[1;32m<ipython-input-24-98612d64b229>\u001b[0m in \u001b[0;36m<module>\u001b[1;34m\u001b[0m\n\u001b[0;32m      4\u001b[0m     \u001b[1;32melse\u001b[0m\u001b[1;33m:\u001b[0m\u001b[1;33m\u001b[0m\u001b[1;33m\u001b[0m\u001b[0m\n\u001b[0;32m      5\u001b[0m         \u001b[0me1\u001b[0m\u001b[1;33m[\u001b[0m\u001b[0mi\u001b[0m\u001b[1;33m]\u001b[0m \u001b[1;33m=\u001b[0m \u001b[1;33m-\u001b[0m\u001b[1;33m(\u001b[0m\u001b[1;33m(\u001b[0m\u001b[1;33m(\u001b[0m\u001b[0mx\u001b[0m\u001b[1;33m[\u001b[0m\u001b[0mi\u001b[0m\u001b[1;33m-\u001b[0m\u001b[1;36m1\u001b[0m\u001b[1;33m]\u001b[0m\u001b[1;33m-\u001b[0m\u001b[0mx_0\u001b[0m\u001b[1;33m+\u001b[0m\u001b[0mu\u001b[0m\u001b[1;33m*\u001b[0m\u001b[0mt1\u001b[0m\u001b[1;33m)\u001b[0m\u001b[1;33m**\u001b[0m\u001b[1;36m2\u001b[0m\u001b[1;33m)\u001b[0m\u001b[1;33m/\u001b[0m\u001b[1;33m(\u001b[0m\u001b[1;36m4\u001b[0m\u001b[1;33m*\u001b[0m\u001b[0mE_h\u001b[0m\u001b[1;33m*\u001b[0m\u001b[0mt1\u001b[0m\u001b[1;33m)\u001b[0m\u001b[1;33m)\u001b[0m\u001b[1;33m\u001b[0m\u001b[1;33m\u001b[0m\u001b[0m\n\u001b[1;32m----> 6\u001b[1;33m         \u001b[0mc1\u001b[0m\u001b[1;33m[\u001b[0m\u001b[0mi\u001b[0m\u001b[1;33m]\u001b[0m\u001b[1;33m=\u001b[0m \u001b[0mm\u001b[0m\u001b[1;33m/\u001b[0m\u001b[1;33m(\u001b[0m\u001b[0ma\u001b[0m\u001b[1;33m*\u001b[0m\u001b[0mnp\u001b[0m\u001b[1;33m.\u001b[0m\u001b[0msqrt\u001b[0m\u001b[1;33m(\u001b[0m\u001b[1;36m4\u001b[0m\u001b[1;33m*\u001b[0m\u001b[0mnp\u001b[0m\u001b[1;33m.\u001b[0m\u001b[0mpi\u001b[0m\u001b[1;33m*\u001b[0m\u001b[0mE_h\u001b[0m\u001b[1;33m*\u001b[0m\u001b[0mt1\u001b[0m\u001b[1;33m)\u001b[0m\u001b[1;33m)\u001b[0m\u001b[1;33m*\u001b[0m\u001b[0mnp\u001b[0m\u001b[1;33m.\u001b[0m\u001b[0mexp\u001b[0m\u001b[1;33m(\u001b[0m\u001b[0me1\u001b[0m\u001b[1;33m)\u001b[0m\u001b[1;33m\u001b[0m\u001b[1;33m\u001b[0m\u001b[0m\n\u001b[0m\u001b[0;32m      7\u001b[0m \u001b[1;33m\u001b[0m\u001b[0m\n\u001b[0;32m      8\u001b[0m         \u001b[1;31m#e2 = -(((x-x_0+u*t2)**2)/(4*E_h*t2))\u001b[0m\u001b[1;33m\u001b[0m\u001b[1;33m\u001b[0m\u001b[1;33m\u001b[0m\u001b[0m\n",
      "\u001b[1;31mValueError\u001b[0m: setting an array element with a sequence."
     ]
    }
   ],
   "source": [
    "for i in np.arange(Nx):\n",
    "    if (i==0):\n",
    "        x[i] = x_0\n",
    "    else:\n",
    "        e1[i] = -(((x[i-1]-x_0+u*t1)**2)/(4*E_h*t1))\n",
    "        c1[i]= m/(a*np.sqrt(4*np.pi*E_h*t1))*np.exp(e1)\n",
    "\n",
    "        #e2 = -(((x-x_0+u*t2)**2)/(4*E_h*t2))\n",
    "        #c2= m/(a*np.sqrt(4*np.pi*E_h*t2))*np.exp(e2)\n",
    "\n",
    "        #e4 = -(((x-x_0+u*t4)**2)/(4*E_h*t4))\n",
    "        #c4= m/(a*np.sqrt(4*np.pi*E_h*t4))*np.exp(e4)\n",
    "\n",
    "        #e8 = -(((x-x_0+u*t8)**2)/(4*E_h*t8))\n",
    "        #c8= m/(a*np.sqrt(4*np.pi*E_h*t8))*np.exp(e8)\n",
    "        \n",
    "       # x[i] = x[i-1] + c1*dx\n",
    "      \n",
    "\n",
    "print(c1)"
   ]
  },
  {
   "cell_type": "markdown",
   "id": "95de3d72-7d85-44f2-abf9-04387a7f4e09",
   "metadata": {},
   "source": []
  },
  {
   "cell_type": "code",
   "execution_count": null,
   "id": "edeb5b54-72c3-4ca5-8e34-f1f813fa13d0",
   "metadata": {},
   "outputs": [],
   "source": [
    "plt.figure(figsize = (11,11))\n",
    "plt.rcParams.update({'font.size': 16})\n",
    "\n",
    "plt.subplot(4,1,1)\n",
    "plt.plot(x,c1, 'b-', label='')\n",
    "#plt.plot(x,c2, 'r-', label='')\n",
    "#plt.plot(x,c4, 'y', label='')\n",
    "#plt.plot(x,c8, 'g', label='')\n",
    "plt.ylabel('')\n",
    "plt.show()"
   ]
  },
  {
   "cell_type": "markdown",
   "id": "1eb76c92-0da1-44fe-aab2-f6223324ca54",
   "metadata": {},
   "source": [
    "### Problem_2"
   ]
  },
  {
   "cell_type": "markdown",
   "id": "b75cf15a-0ef5-49b2-be01-f049016d5e8b",
   "metadata": {},
   "source": [
    "##### Part A."
   ]
  },
  {
   "cell_type": "code",
   "execution_count": 18,
   "id": "c6633e5c-9aec-4263-9246-c13d857f6439",
   "metadata": {},
   "outputs": [
    {
     "name": "stdout",
     "output_type": "stream",
     "text": [
      "area =  600 meters^2\n",
      "velosity of stream =  1.55 m/s\n"
     ]
    }
   ],
   "source": [
    "import numpy as np\n",
    "import matplotlib.pyplot as plt\n",
    "\n",
    "d_2 = 3 # m \n",
    "w_2 = 200 # m\n",
    "a_2 = w_2 * d_2\n",
    "Q_2 = 930 # m^3/s flow of river \n",
    "E_2 = 1500 # m^2/s Measured longitudinal Dispersion Coefficient in m^2/s\n",
    "E_2h = E_2*3600\n",
    "u_2 = Q_2/a_2\n",
    "m_2 = 50\n",
    "c_2 = 1*10**-6\n",
    "print('area = ',a_2,'meters^2')\n",
    "print('velosity of stream = ', u_2, 'm/s')"
   ]
  },
  {
   "cell_type": "code",
   "execution_count": 23,
   "id": "3c1f2c80-c400-4ec9-bd74-74d59de4d160",
   "metadata": {},
   "outputs": [
    {
     "name": "stdout",
     "output_type": "stream",
     "text": [
      "time =  102.33728336670225 hours\n",
      "distance traveled 571.0420411861986 km\n"
     ]
    }
   ],
   "source": [
    "t_1 = m_2**2/(c_2**2*a_2**2*4*np.pi*E_2h)\n",
    "\n",
    "print('time = ', t_1, 'hours')\n",
    "\n",
    "x_2 = t_1 * u_2 * 3600\n",
    "print('distance traveled', x_2/1000, 'km')"
   ]
  },
  {
   "cell_type": "markdown",
   "id": "6c31ea37-b6ac-413e-a6fc-f9c9fc1058c1",
   "metadata": {},
   "source": [
    "#### Part B."
   ]
  },
  {
   "cell_type": "code",
   "execution_count": 13,
   "id": "411235df-2482-4f90-aa15-9fcf2aa3a400",
   "metadata": {},
   "outputs": [],
   "source": [
    "import numpy as np\n",
    "import matplotlib.pyplot as plt\n",
    "from sympy.solvers import solve\n",
    "from sympy import Symbol\n",
    "\n",
    "# Define Variables\n",
    "x_b = 25000 #[m]\n",
    "x0_b = 0 #[m]\n",
    "d_b = 3 #[m]\n",
    "w_b = 200 #[m]\n",
    "Q_s_b = 930 #[m3/s]\n",
    "Q_h_b = Q_s_b*3600 #[m3/h]\n",
    "E_s_b = 1500 #[m2/s]\n",
    "E_h_b = E_s_b*3600 #[m2/h]\n",
    "M_b = 50 #[kg]\n",
    "Ct_b = 10^(-6) #[kg/m3] or 1 ppb by weight\n",
    "# Calculated Values\n",
    "A_b = d_b*w_b #[m2]\n",
    "u_s_b = Q_s_b/A_b #[m/s]\n",
    "u_h_b = u_s_b*3600 #[m/h]\n"
   ]
  },
  {
   "cell_type": "code",
   "execution_count": 17,
   "id": "501fc993-972b-4527-b459-05b256486adc",
   "metadata": {},
   "outputs": [
    {
     "ename": "TypeError",
     "evalue": "loop of ufunc does not support argument 0 of type Mul which has no callable sqrt method",
     "output_type": "error",
     "traceback": [
      "\u001b[1;31m---------------------------------------------------------------------------\u001b[0m",
      "\u001b[1;31mAttributeError\u001b[0m                            Traceback (most recent call last)",
      "\u001b[1;31mAttributeError\u001b[0m: 'Mul' object has no attribute 'sqrt'",
      "\nThe above exception was the direct cause of the following exception:\n",
      "\u001b[1;31mTypeError\u001b[0m                                 Traceback (most recent call last)",
      "\u001b[1;32m<ipython-input-17-9c96a3c40971>\u001b[0m in \u001b[0;36m<module>\u001b[1;34m\u001b[0m\n\u001b[0;32m      3\u001b[0m \u001b[1;33m\u001b[0m\u001b[0m\n\u001b[0;32m      4\u001b[0m \u001b[1;31m#solve(e_b = -((x-(0+u_h_b*x))**2/(4*E_h_b*x))\u001b[0m\u001b[1;33m\u001b[0m\u001b[1;33m\u001b[0m\u001b[1;33m\u001b[0m\u001b[0m\n\u001b[1;32m----> 5\u001b[1;33m \u001b[0msolve\u001b[0m\u001b[1;33m(\u001b[0m\u001b[0mx_b\u001b[0m \u001b[1;33m=\u001b[0m \u001b[1;33m(\u001b[0m\u001b[0mM_b\u001b[0m\u001b[1;33m/\u001b[0m\u001b[1;33m(\u001b[0m\u001b[0mA_b\u001b[0m\u001b[1;33m*\u001b[0m\u001b[0mnp\u001b[0m\u001b[1;33m.\u001b[0m\u001b[0msqrt\u001b[0m\u001b[1;33m(\u001b[0m\u001b[1;36m4\u001b[0m\u001b[1;33m*\u001b[0m\u001b[0mnp\u001b[0m\u001b[1;33m.\u001b[0m\u001b[0mpi\u001b[0m\u001b[1;33m*\u001b[0m\u001b[0mE_h_b\u001b[0m\u001b[1;33m*\u001b[0m\u001b[0mx\u001b[0m\u001b[1;33m)\u001b[0m\u001b[1;33m)\u001b[0m\u001b[1;33m)\u001b[0m\u001b[1;33m*\u001b[0m\u001b[0mnp\u001b[0m\u001b[1;33m.\u001b[0m\u001b[0mexp\u001b[0m\u001b[1;33m(\u001b[0m\u001b[1;33m-\u001b[0m\u001b[1;33m(\u001b[0m\u001b[1;33m(\u001b[0m\u001b[0mx\u001b[0m\u001b[1;33m-\u001b[0m\u001b[1;33m(\u001b[0m\u001b[0mx0_b\u001b[0m\u001b[1;33m+\u001b[0m\u001b[0mu_h_b\u001b[0m\u001b[1;33m*\u001b[0m\u001b[0mx\u001b[0m\u001b[1;33m)\u001b[0m\u001b[1;33m)\u001b[0m\u001b[1;33m**\u001b[0m\u001b[1;36m2\u001b[0m\u001b[1;33m/\u001b[0m\u001b[1;33m(\u001b[0m\u001b[1;36m4\u001b[0m\u001b[1;33m*\u001b[0m\u001b[0mE_h_b\u001b[0m\u001b[1;33m*\u001b[0m\u001b[0mx\u001b[0m\u001b[1;33m)\u001b[0m\u001b[1;33m)\u001b[0m\u001b[1;33m,\u001b[0m\u001b[0mx\u001b[0m\u001b[1;33m)\u001b[0m\u001b[1;33m)\u001b[0m\u001b[1;33m\u001b[0m\u001b[1;33m\u001b[0m\u001b[0m\n\u001b[0m\u001b[0;32m      6\u001b[0m \u001b[1;33m\u001b[0m\u001b[0m\n",
      "\u001b[1;31mTypeError\u001b[0m: loop of ufunc does not support argument 0 of type Mul which has no callable sqrt method"
     ]
    }
   ],
   "source": [
    "# Calculate C(x,t) when x = 25 km\n",
    "x = Symbol('x')\n",
    "\n",
    "#solve(e_b = -((x-(0+u_h_b*x))**2/(4*E_h_b*x))\n",
    "solve(x_b = (M_b/(A_b*np.sqrt(4*np.pi*E_h_b*x)))*np.exp(-((x-(x0_b+u_h_b*x))**2/(4*E_h_b*x)),x))\n",
    "     "
   ]
  },
  {
   "cell_type": "code",
   "execution_count": null,
   "id": "e519b69b",
   "metadata": {},
   "outputs": [],
   "source": []
  },
  {
   "cell_type": "code",
   "execution_count": null,
   "id": "924c8b42-8bab-4366-8fe6-a31a3256c5ab",
   "metadata": {},
   "outputs": [],
   "source": []
  }
 ],
 "metadata": {
  "kernelspec": {
   "display_name": "Python 3",
   "language": "python",
   "name": "python3"
  },
  "language_info": {
   "codemirror_mode": {
    "name": "ipython",
    "version": 3
   },
   "file_extension": ".py",
   "mimetype": "text/x-python",
   "name": "python",
   "nbconvert_exporter": "python",
   "pygments_lexer": "ipython3",
   "version": "3.8.8"
  }
 },
 "nbformat": 4,
 "nbformat_minor": 5
}
